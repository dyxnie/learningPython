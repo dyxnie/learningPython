{
 "cells": [
  {
   "cell_type": "code",
   "execution_count": null,
   "metadata": {},
   "outputs": [],
   "source": [
    "def gcd(a, b):\n",
    "    while b != 0:\n",
    "        a, b = b, a % b \n",
    "    return a\n",
    "\n",
    "def lcm(a,b):\n",
    "    return abs(a*b)/gcd(a,b)\n",
    "\n",
    "def handle_gcd(a, b):\n",
    "    t = gcd(a, b)\n",
    "    return int(a/t),int(b/t)\n",
    "\n",
    "def handle_fracture(*args, cls):\n",
    "    def wrapper():\n",
    "        if isinstance(*args, cls):\n",
    "            return args\n",
    "        else:\n",
    "            print('Not a valid fracture!')\n",
    "            return None\n",
    "    return wrapper"
   ]
  },
  {
   "cell_type": "code",
   "execution_count": 2,
   "metadata": {},
   "outputs": [],
   "source": [
    "class Fracture_Logic(object):\n",
    "    \n",
    "    def __init__(self, zt):\n",
    "        self.z = zt[0]  \n",
    "        self.t = zt[1]\n",
    "            \n",
    "    def __str__(self):\n",
    "        return str(self.z)+'|'+str(self.t)\n",
    "    \n",
    "    def add(self,other):\n",
    "        if isinstance(other, Fracture):\n",
    "            total_t = lcm(self.t,other.t)\n",
    "            total_z = self.z*total_t/self.t + other.z*total_t/other.t\n",
    "            return Fracture(handle_gcd(total_z, total_t))\n",
    "        else:\n",
    "            print(\"Error\")\n",
    "    \n",
    "    def mult(self,other):\n",
    "        if isinstance(other, Fracture):\n",
    "            total_z = self.z * other.z\n",
    "            total_t = self.t * other.t\n",
    "            return Fracture(handle_gcd(total_z, total_t))\n",
    "        else:\n",
    "            print(\"Error\") \n",
    "    \n",
    "    def sub(self,other):\n",
    "        if isinstance(other, Fracture):\n",
    "            total_t = lcm(self.t,other.t)\n",
    "            total_z = self.z*total_t/self.t - other.z*total_t/other.t\n",
    "            return Fracture(handle_gcd(total_z, total_t))\n",
    "        else:\n",
    "            print(\"Error\") \n",
    "    \n",
    "    def div(self,other):\n",
    "        if isinstance(other, Fracture):\n",
    "            total_z = self.z * other.t\n",
    "            total_t = self.t * other.z\n",
    "            return Fracture(handle_gcd(total_z, total_t))\n",
    "        else:\n",
    "            print(\"Error\") "
   ]
  },
  {
   "cell_type": "code",
   "execution_count": 3,
   "metadata": {},
   "outputs": [],
   "source": [
    "class Fracture(Fracture_Logic):\n",
    "    \n",
    "    def __new__(cls,zt):\n",
    "        if zt[1]!=0:\n",
    "            obj = super().__new__(cls)\n",
    "            return obj\n",
    "        else:\n",
    "            return None\n",
    "    \n",
    "    def __init__(self, zt):\n",
    "        Fracture_Logic.__init__(self, zt)  "
   ]
  },
  {
   "cell_type": "code",
   "execution_count": 4,
   "metadata": {},
   "outputs": [],
   "source": [
    "b1=Fracture([70, 16])\n",
    "b2=Fracture((3,0))"
   ]
  },
  {
   "cell_type": "code",
   "execution_count": 5,
   "metadata": {},
   "outputs": [
    {
     "data": {
      "text/plain": [
       "True"
      ]
     },
     "execution_count": 5,
     "metadata": {},
     "output_type": "execute_result"
    }
   ],
   "source": [
    "isinstance(b1, Fracture)"
   ]
  },
  {
   "cell_type": "code",
   "execution_count": 6,
   "metadata": {},
   "outputs": [
    {
     "data": {
      "text/plain": [
       "False"
      ]
     },
     "execution_count": 6,
     "metadata": {},
     "output_type": "execute_result"
    }
   ],
   "source": [
    "isinstance(b2, Fracture_Logic)"
   ]
  },
  {
   "cell_type": "code",
   "execution_count": 7,
   "metadata": {},
   "outputs": [
    {
     "name": "stdout",
     "output_type": "stream",
     "text": [
      "Error\n"
     ]
    }
   ],
   "source": [
    "b3 = b1.add(b2)"
   ]
  },
  {
   "cell_type": "code",
   "execution_count": 8,
   "metadata": {},
   "outputs": [
    {
     "name": "stdout",
     "output_type": "stream",
     "text": [
      "None\n"
     ]
    }
   ],
   "source": [
    "print(b3)"
   ]
  },
  {
   "cell_type": "code",
   "execution_count": 9,
   "metadata": {},
   "outputs": [
    {
     "name": "stdout",
     "output_type": "stream",
     "text": [
      "Error\n",
      "None\n"
     ]
    }
   ],
   "source": [
    "b4 = b1.mult(b2)\n",
    "print(b4)"
   ]
  },
  {
   "cell_type": "code",
   "execution_count": 10,
   "metadata": {},
   "outputs": [
    {
     "name": "stdout",
     "output_type": "stream",
     "text": [
      "Error\n",
      "None\n"
     ]
    }
   ],
   "source": [
    "print(b1.sub(b2))"
   ]
  },
  {
   "cell_type": "code",
   "execution_count": 11,
   "metadata": {},
   "outputs": [
    {
     "ename": "AttributeError",
     "evalue": "'NoneType' object has no attribute 'div'",
     "output_type": "error",
     "traceback": [
      "\u001b[1;31m---------------------------------------------------------------------------\u001b[0m",
      "\u001b[1;31mAttributeError\u001b[0m                            Traceback (most recent call last)",
      "\u001b[1;32m<ipython-input-11-eaeadd7c03e8>\u001b[0m in \u001b[0;36m<module>\u001b[1;34m\u001b[0m\n\u001b[1;32m----> 1\u001b[1;33m \u001b[0mprint\u001b[0m\u001b[1;33m(\u001b[0m\u001b[0mb2\u001b[0m\u001b[1;33m.\u001b[0m\u001b[0mdiv\u001b[0m\u001b[1;33m(\u001b[0m\u001b[0mb1\u001b[0m\u001b[1;33m)\u001b[0m\u001b[1;33m)\u001b[0m\u001b[1;33m\u001b[0m\u001b[1;33m\u001b[0m\u001b[0m\n\u001b[0m",
      "\u001b[1;31mAttributeError\u001b[0m: 'NoneType' object has no attribute 'div'"
     ]
    }
   ],
   "source": [
    "print(b2.div(b1))"
   ]
  },
  {
   "cell_type": "code",
   "execution_count": null,
   "metadata": {},
   "outputs": [],
   "source": [
    "b0 = Fracture((3, 0))\n",
    "b0"
   ]
  }
 ],
 "metadata": {
  "kernelspec": {
   "display_name": "Python 3",
   "language": "python",
   "name": "python3"
  },
  "language_info": {
   "codemirror_mode": {
    "name": "ipython",
    "version": 3
   },
   "file_extension": ".py",
   "mimetype": "text/x-python",
   "name": "python",
   "nbconvert_exporter": "python",
   "pygments_lexer": "ipython3",
   "version": "3.7.4"
  }
 },
 "nbformat": 4,
 "nbformat_minor": 4
}
